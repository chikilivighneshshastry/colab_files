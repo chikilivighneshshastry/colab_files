{
  "cells": [
    {
      "cell_type": "markdown",
      "metadata": {
        "id": "view-in-github",
        "colab_type": "text"
      },
      "source": [
        "<a href=\"https://colab.research.google.com/github/chikilivighneshshastry/colab_files/blob/main/jobright_data_extraction.ipynb\" target=\"_parent\"><img src=\"https://colab.research.google.com/assets/colab-badge.svg\" alt=\"Open In Colab\"/></a>"
      ]
    },
    {
      "cell_type": "code",
      "source": [
        "import aiohttp\n",
        "import asyncio\n",
        "\n",
        "async def extract_job_data(url):\n",
        "  async with aiohttp.ClientSession() as session:\n",
        "    response = await session.get(url)\n",
        "    html = await response.text()\n",
        "    # print(html)\n",
        "    return response\n",
        "\n",
        "url = 'https://jobright.ai/jobs/info/685a54b5be2d7e56476268d7'\n",
        "response = await extract_job_data(url)"
      ],
      "metadata": {
        "id": "e1QKrxJOkCEq"
      },
      "execution_count": 4,
      "outputs": []
    },
    {
      "cell_type": "code",
      "source": [
        "response.status\n",
        "html_data = await response.text()\n",
        "print(html_data)"
      ],
      "metadata": {
        "id": "3k8MLjR-kFBX"
      },
      "execution_count": null,
      "outputs": []
    },
    {
      "cell_type": "code",
      "source": [
        "# prompt: parse html_data using bs4 and get with text in a id\n",
        "\n",
        "from bs4 import BeautifulSoup\n",
        "import json\n",
        "soup = BeautifulSoup(html_data, 'html.parser')\n",
        "\n",
        "# Assuming the text you want is within an element with a specific ID,\n",
        "# replace 'your_element_id' with the actual ID of the element.\n",
        "element_with_id = soup.find(id='__NEXT_DATA__')\n",
        "\n",
        "if element_with_id:\n",
        "  detailed_json_data = element_with_id.get_text()\n",
        "  print(detailed_json_data)\n",
        "else:\n",
        "  print(\"Element with the specified ID not found.\")\n",
        "\n",
        "data = json.loads(detailed_json_data)\n",
        "print(data)\n"
      ],
      "metadata": {
        "id": "URqMe0gEkIGo",
        "outputId": "0ed18a8a-599b-46b5-e0d7-8824b52197f3",
        "colab": {
          "base_uri": "https://localhost:8080/"
        }
      },
      "execution_count": 6,
      "outputs": [
        {
          "output_type": "stream",
          "name": "stdout",
          "text": [
            "{\"props\":{\"pageProps\":{\"isMobile\":false,\"isSsrMobile\":false,\"dataSource\":{\"displayScore\":0,\"pos\":0,\"jobResult\":{\"jobId\":\"685a54b5be2d7e56476268d7\",\"jobTitle\":\"Backend Engineer (India)\",\"jobNlpTitle\":\"Backend Engineer\",\"jobSeniority\":\"New Grad, Entry Level\",\"jobLocation\":\"IN / Remote (IN)\",\"isRemote\":true,\"workModel\":\"Remote\",\"publishTime\":\"2025-06-24 07:33:09\",\"publishTimeDesc\":\"3 hours ago\",\"salaryDesc\":\"$20K/yr - $30K/yr\",\"employmentType\":\"Full-time\",\"jobSummary\":\"VectorShift is a company that builds, designs, prototypes, and deploys custom generative AI workflows. As a Backend Engineer, you will work on improving workflow efficiency, integrating AI developments into the platform, and managing database infrastructure.\",\"jobRecruiter\":\"\",\"jobRecruiterProfileUrl\":\"\",\"applicantsCount\":83,\"coreResponsibilities\":[\"Work directly with the founders to conceptualize and implement sub-products and features, end to end.\",\"Lead technical architecture decisions, ensuring the platform is scalable and maintainable.\",\"Drive forward performance optimization.\",\"Establish foundational technical practices that will guide future team members.\"],\"recommendationTags\":[],\"jobTags\":[],\"recommendationScores\":[{\"featureName\":\"q_seniority_match\",\"displayName\":\"Experience Level\",\"score\":0},{\"featureName\":\"q_job_skill_match\",\"displayName\":\"Skill Match\",\"score\":0},{\"featureName\":\"q_industry_match\",\"displayName\":\"Industry Experience\",\"score\":0}],\"skillSummaries\":[\"Degree in a technical discipline, preferably computer science.\",\"Experience with Python/ FastAPI.\",\"Understanding of performance optimization best practices.\",\"Strong communication skills and ability to work in high paced environments.\",\"Excellent problem solving skills and proven ability to overcome challenges.\",\"Experience in early-stage startup environments.\",\"Experience with no/low-code platforms.\",\"Experience in AI, machine learning, and building RAG workflows.\"],\"educationSummaries\":[],\"benefitsSummaries\":[],\"skillMatchingScores\":[{\"featureName\":\"Python\",\"displayName\":\"Python\",\"score\":0},{\"featureName\":\"FastAPI\",\"displayName\":\"FastAPI\",\"score\":0},{\"featureName\":\"React\",\"displayName\":\"React\",\"score\":0},{\"featureName\":\"MongoDB\",\"displayName\":\"MongoDB\",\"score\":0},{\"featureName\":\"Redis\",\"displayName\":\"Redis\",\"score\":0},{\"featureName\":\"CSS\",\"displayName\":\"CSS\",\"score\":0},{\"featureName\":\"HTML\",\"displayName\":\"HTML\",\"score\":0},{\"featureName\":\"JavaScript\",\"displayName\":\"JavaScript\",\"score\":0},{\"featureName\":\"Performance optimization\",\"displayName\":\"Performance optimization\",\"score\":0},{\"featureName\":\"AI\",\"displayName\":\"AI\",\"score\":0},{\"featureName\":\"Machine learning\",\"displayName\":\"Machine learning\",\"score\":0},{\"featureName\":\"No-code platforms\",\"displayName\":\"No-code platforms\",\"score\":0}],\"industryMatchingScores\":[],\"isDeleted\":false,\"jdLogo\":\"https://media.licdn.com/dms/image/v2/D4E0BAQHA6tJ8FjLImQ/company-logo_200_200/company-logo_200_200/0/1686524725664?e=1753920000\\u0026v=beta\\u0026t=OHZtV7OdhQDJmz_5Npif9QKd5W8ikBqUsDt-rhMHlVI\",\"firstTaxonomy\":\"\",\"source\":220,\"socialConnections\":[],\"lat\":0,\"lng\":0,\"jdCoreSkills\":[{\"skill\":\"Python\",\"score\":3,\"type\":\"hard_skill\"},{\"skill\":\"FastAPI\",\"score\":3,\"type\":\"hard_skill\"},{\"skill\":\"React\",\"score\":3,\"type\":\"hard_skill\"},{\"skill\":\"MongoDB\",\"score\":2,\"type\":\"hard_skill\"},{\"skill\":\"Redis\",\"score\":2,\"type\":\"hard_skill\"},{\"skill\":\"CSS\",\"score\":1,\"type\":\"hard_skill\"},{\"skill\":\"HTML\",\"score\":1,\"type\":\"hard_skill\"},{\"skill\":\"JavaScript\",\"score\":1,\"type\":\"hard_skill\"},{\"skill\":\"Performance optimization\",\"score\":1,\"type\":\"hard_skill\"},{\"skill\":\"AI\",\"score\":1,\"type\":\"hard_skill\"},{\"skill\":\"Machine learning\",\"score\":1,\"type\":\"hard_skill\"},{\"skill\":\"No-code platforms\",\"score\":1,\"type\":\"hard_skill\"}],\"jobTaxonomyV3\":[\"Engineering and Development\",\"Software Engineering\",\"Backend Software Engineer\"],\"qualifications\":{\"mustHave\":[\"Degree in a technical discipline, preferably computer science.\",\"Experience with Python/ FastAPI.\",\"Understanding of performance optimization best practices.\",\"Strong communication skills and ability to work in high paced environments.\",\"Excellent problem solving skills and proven ability to overcome challenges.\"],\"preferredHave\":[\"Experience in early-stage startup environments.\",\"Experience with no/low-code platforms.\",\"Experience in AI, machine learning, and building RAG workflows.\"]},\"detailQualifications\":{\"mustHave\":{\"yoe\":[],\"education\":[],\"hardSkill\":[{\"skill\":\"Degree in technical discipline\"},{\"skill\":\"Python\"},{\"skill\":\"FastAPI\"},{\"skill\":\"Performance optimization\"}],\"softSkill\":[{\"skill\":\"communication skills\"},{\"skill\":\"work in high paced environments\"},{\"skill\":\"problem solving skills\"}]},\"preferredHave\":{\"yoe\":[],\"education\":[],\"hardSkill\":[{\"skill\":\"Startup experience\"},{\"skill\":\"No/low-code platforms\"},{\"skill\":\"AI experience\"},{\"skill\":\"Machine learning\"},{\"skill\":\"RAG workflows\"}],\"softSkill\":[]}}},\"companyResult\":{\"companyId\":\"93236205\",\"companyName\":\"VectorShift\",\"companySize\":\"2-10 employees\",\"companyDesc\":\"VectorShift Builds, designs, prototypes, and deploys custom generative AI workflows.\",\"companyCategories\":\"Apps,Artificial Intelligence (AI),Generative AI,Search Engine,Software\",\"companyTwitterURL\":\"\",\"companyLinkedinURL\":\"https://www.linkedin.com/company/98020569\",\"companyCrunchbaseURL\":\"https://www.crunchbase.com/organization/vectorshift\",\"companyFoundYear\":\"2023\",\"companyLocation\":\"San Francisco, California, USA\",\"companyURL\":\"https://www.vectorshift.ai\",\"fundraisingCurrentStage\":\"Early Stage\",\"fundraisingTotalFunding\":\"$3M\",\"fundraisingKeyInvestors\":[],\"fundraisingLatestRounds\":[{\"investmentType\":\"Seed\",\"announcedOn\":\"2024-02-21\",\"raisedAmountUsd\":\"$3M\",\"postMoneyValuationUsd\":\"\",\"investorCount\":7,\"leadInvestorName\":\"\"},{\"investmentType\":\"Seed\",\"announcedOn\":\"2023-07-01\",\"postMoneyValuationUsd\":\"\",\"investorCount\":3,\"leadInvestorName\":\"\"},{\"investmentType\":\"Pre Seed\",\"announcedOn\":\"2023-04-03\",\"postMoneyValuationUsd\":\"2000000\",\"investorCount\":1,\"leadInvestorName\":\"\"}],\"leadership\":[{\"pname\":\"Alex Leonardi\",\"plogoUrl\":\"https://images.crunchbase.com/image/upload/t_cb-default-original/fxc8u0c9etetje1pnrxg\",\"ptitle\":\"Co-Founder and CEO\",\"plinkedinUrl\":\"https://www.linkedin.com/in/alexanderleonardi\"}],\"pressReferences\":[{\"url\":\"https://468cap.com/vectorshift-raises-3m-to-build-ai-workflows/\",\"postedOn\":\"2025-04-15\",\"title\":\"VectorShift raises $3M to build AI workflows\",\"publisher\":\"468 Capital -\"}],\"h1bAnnualJobCount\":[],\"h1bTitleDistribution\":[],\"isAgency\":false,\"linkedinCompanyId\":\"98020569\"}},\"baseSalary\":{\"currency\":\"USD\",\"value\":{\"minValue\":20000,\"maxValue\":30000,\"unitText\":\"YEAR\",\"@type\":\"QuantitativeValue\"},\"@type\":\"MonetaryAmount\"},\"jobLocation\":{\"address\":{\"addressLocality\":\"IN / Remote (IN)\",\"addressCountry\":\"US\",\"@type\":\"PostalAddress\"},\"latitude\":0,\"longitude\":0,\"@type\":\"Place\"},\"logined\":false,\"jobHashedId\":\"685a54b5be2d7e56476268d7\",\"_sentryTraceData\":\"74f1e40ce1b14b718a372b05d8a3070a-93af864dd954a888-0\",\"_sentryBaggage\":\"sentry-environment=production,sentry-release=pigeon_production%40v0.0.819,sentry-public_key=5f46138160b2461b9e0fb4bb1cc803bc,sentry-trace_id=74f1e40ce1b14b718a372b05d8a3070a,sentry-sample_rate=0.01,sentry-transaction=%2Fjobs%2Finfo%2F%5Bid%5D,sentry-sampled=false\"},\"__N_SSP\":true},\"page\":\"/jobs/info/[id]\",\"query\":{\"id\":\"685a54b5be2d7e56476268d7\"},\"buildId\":\"jMb_qVKvcyN7KO6FTCBGV\",\"isFallback\":false,\"gssp\":true,\"scriptLoader\":[]}\n",
            "{'props': {'pageProps': {'isMobile': False, 'isSsrMobile': False, 'dataSource': {'displayScore': 0, 'pos': 0, 'jobResult': {'jobId': '685a54b5be2d7e56476268d7', 'jobTitle': 'Backend Engineer (India)', 'jobNlpTitle': 'Backend Engineer', 'jobSeniority': 'New Grad, Entry Level', 'jobLocation': 'IN / Remote (IN)', 'isRemote': True, 'workModel': 'Remote', 'publishTime': '2025-06-24 07:33:09', 'publishTimeDesc': '3 hours ago', 'salaryDesc': '$20K/yr - $30K/yr', 'employmentType': 'Full-time', 'jobSummary': 'VectorShift is a company that builds, designs, prototypes, and deploys custom generative AI workflows. As a Backend Engineer, you will work on improving workflow efficiency, integrating AI developments into the platform, and managing database infrastructure.', 'jobRecruiter': '', 'jobRecruiterProfileUrl': '', 'applicantsCount': 83, 'coreResponsibilities': ['Work directly with the founders to conceptualize and implement sub-products and features, end to end.', 'Lead technical architecture decisions, ensuring the platform is scalable and maintainable.', 'Drive forward performance optimization.', 'Establish foundational technical practices that will guide future team members.'], 'recommendationTags': [], 'jobTags': [], 'recommendationScores': [{'featureName': 'q_seniority_match', 'displayName': 'Experience Level', 'score': 0}, {'featureName': 'q_job_skill_match', 'displayName': 'Skill Match', 'score': 0}, {'featureName': 'q_industry_match', 'displayName': 'Industry Experience', 'score': 0}], 'skillSummaries': ['Degree in a technical discipline, preferably computer science.', 'Experience with Python/ FastAPI.', 'Understanding of performance optimization best practices.', 'Strong communication skills and ability to work in high paced environments.', 'Excellent problem solving skills and proven ability to overcome challenges.', 'Experience in early-stage startup environments.', 'Experience with no/low-code platforms.', 'Experience in AI, machine learning, and building RAG workflows.'], 'educationSummaries': [], 'benefitsSummaries': [], 'skillMatchingScores': [{'featureName': 'Python', 'displayName': 'Python', 'score': 0}, {'featureName': 'FastAPI', 'displayName': 'FastAPI', 'score': 0}, {'featureName': 'React', 'displayName': 'React', 'score': 0}, {'featureName': 'MongoDB', 'displayName': 'MongoDB', 'score': 0}, {'featureName': 'Redis', 'displayName': 'Redis', 'score': 0}, {'featureName': 'CSS', 'displayName': 'CSS', 'score': 0}, {'featureName': 'HTML', 'displayName': 'HTML', 'score': 0}, {'featureName': 'JavaScript', 'displayName': 'JavaScript', 'score': 0}, {'featureName': 'Performance optimization', 'displayName': 'Performance optimization', 'score': 0}, {'featureName': 'AI', 'displayName': 'AI', 'score': 0}, {'featureName': 'Machine learning', 'displayName': 'Machine learning', 'score': 0}, {'featureName': 'No-code platforms', 'displayName': 'No-code platforms', 'score': 0}], 'industryMatchingScores': [], 'isDeleted': False, 'jdLogo': 'https://media.licdn.com/dms/image/v2/D4E0BAQHA6tJ8FjLImQ/company-logo_200_200/company-logo_200_200/0/1686524725664?e=1753920000&v=beta&t=OHZtV7OdhQDJmz_5Npif9QKd5W8ikBqUsDt-rhMHlVI', 'firstTaxonomy': '', 'source': 220, 'socialConnections': [], 'lat': 0, 'lng': 0, 'jdCoreSkills': [{'skill': 'Python', 'score': 3, 'type': 'hard_skill'}, {'skill': 'FastAPI', 'score': 3, 'type': 'hard_skill'}, {'skill': 'React', 'score': 3, 'type': 'hard_skill'}, {'skill': 'MongoDB', 'score': 2, 'type': 'hard_skill'}, {'skill': 'Redis', 'score': 2, 'type': 'hard_skill'}, {'skill': 'CSS', 'score': 1, 'type': 'hard_skill'}, {'skill': 'HTML', 'score': 1, 'type': 'hard_skill'}, {'skill': 'JavaScript', 'score': 1, 'type': 'hard_skill'}, {'skill': 'Performance optimization', 'score': 1, 'type': 'hard_skill'}, {'skill': 'AI', 'score': 1, 'type': 'hard_skill'}, {'skill': 'Machine learning', 'score': 1, 'type': 'hard_skill'}, {'skill': 'No-code platforms', 'score': 1, 'type': 'hard_skill'}], 'jobTaxonomyV3': ['Engineering and Development', 'Software Engineering', 'Backend Software Engineer'], 'qualifications': {'mustHave': ['Degree in a technical discipline, preferably computer science.', 'Experience with Python/ FastAPI.', 'Understanding of performance optimization best practices.', 'Strong communication skills and ability to work in high paced environments.', 'Excellent problem solving skills and proven ability to overcome challenges.'], 'preferredHave': ['Experience in early-stage startup environments.', 'Experience with no/low-code platforms.', 'Experience in AI, machine learning, and building RAG workflows.']}, 'detailQualifications': {'mustHave': {'yoe': [], 'education': [], 'hardSkill': [{'skill': 'Degree in technical discipline'}, {'skill': 'Python'}, {'skill': 'FastAPI'}, {'skill': 'Performance optimization'}], 'softSkill': [{'skill': 'communication skills'}, {'skill': 'work in high paced environments'}, {'skill': 'problem solving skills'}]}, 'preferredHave': {'yoe': [], 'education': [], 'hardSkill': [{'skill': 'Startup experience'}, {'skill': 'No/low-code platforms'}, {'skill': 'AI experience'}, {'skill': 'Machine learning'}, {'skill': 'RAG workflows'}], 'softSkill': []}}}, 'companyResult': {'companyId': '93236205', 'companyName': 'VectorShift', 'companySize': '2-10 employees', 'companyDesc': 'VectorShift Builds, designs, prototypes, and deploys custom generative AI workflows.', 'companyCategories': 'Apps,Artificial Intelligence (AI),Generative AI,Search Engine,Software', 'companyTwitterURL': '', 'companyLinkedinURL': 'https://www.linkedin.com/company/98020569', 'companyCrunchbaseURL': 'https://www.crunchbase.com/organization/vectorshift', 'companyFoundYear': '2023', 'companyLocation': 'San Francisco, California, USA', 'companyURL': 'https://www.vectorshift.ai', 'fundraisingCurrentStage': 'Early Stage', 'fundraisingTotalFunding': '$3M', 'fundraisingKeyInvestors': [], 'fundraisingLatestRounds': [{'investmentType': 'Seed', 'announcedOn': '2024-02-21', 'raisedAmountUsd': '$3M', 'postMoneyValuationUsd': '', 'investorCount': 7, 'leadInvestorName': ''}, {'investmentType': 'Seed', 'announcedOn': '2023-07-01', 'postMoneyValuationUsd': '', 'investorCount': 3, 'leadInvestorName': ''}, {'investmentType': 'Pre Seed', 'announcedOn': '2023-04-03', 'postMoneyValuationUsd': '2000000', 'investorCount': 1, 'leadInvestorName': ''}], 'leadership': [{'pname': 'Alex Leonardi', 'plogoUrl': 'https://images.crunchbase.com/image/upload/t_cb-default-original/fxc8u0c9etetje1pnrxg', 'ptitle': 'Co-Founder and CEO', 'plinkedinUrl': 'https://www.linkedin.com/in/alexanderleonardi'}], 'pressReferences': [{'url': 'https://468cap.com/vectorshift-raises-3m-to-build-ai-workflows/', 'postedOn': '2025-04-15', 'title': 'VectorShift raises $3M to build AI workflows', 'publisher': '468 Capital -'}], 'h1bAnnualJobCount': [], 'h1bTitleDistribution': [], 'isAgency': False, 'linkedinCompanyId': '98020569'}}, 'baseSalary': {'currency': 'USD', 'value': {'minValue': 20000, 'maxValue': 30000, 'unitText': 'YEAR', '@type': 'QuantitativeValue'}, '@type': 'MonetaryAmount'}, 'jobLocation': {'address': {'addressLocality': 'IN / Remote (IN)', 'addressCountry': 'US', '@type': 'PostalAddress'}, 'latitude': 0, 'longitude': 0, '@type': 'Place'}, 'logined': False, 'jobHashedId': '685a54b5be2d7e56476268d7', '_sentryTraceData': '74f1e40ce1b14b718a372b05d8a3070a-93af864dd954a888-0', '_sentryBaggage': 'sentry-environment=production,sentry-release=pigeon_production%40v0.0.819,sentry-public_key=5f46138160b2461b9e0fb4bb1cc803bc,sentry-trace_id=74f1e40ce1b14b718a372b05d8a3070a,sentry-sample_rate=0.01,sentry-transaction=%2Fjobs%2Finfo%2F%5Bid%5D,sentry-sampled=false'}, '__N_SSP': True}, 'page': '/jobs/info/[id]', 'query': {'id': '685a54b5be2d7e56476268d7'}, 'buildId': 'jMb_qVKvcyN7KO6FTCBGV', 'isFallback': False, 'gssp': True, 'scriptLoader': []}\n"
          ]
        }
      ]
    },
    {
      "cell_type": "code",
      "source": [
        "data.keys()\n",
        "print(data['props'].keys())\n",
        "print(data['page'])\n",
        "print(data['query'])\n",
        "print(data['buildId'])\n",
        "print(data['isFallback'])\n",
        "print(data['gssp'])\n",
        "print(data['scriptLoader'])"
      ],
      "metadata": {
        "id": "ol3dES5el8uh",
        "outputId": "ca1c3826-cd6e-47f6-e099-e8c90f8a6295",
        "colab": {
          "base_uri": "https://localhost:8080/"
        }
      },
      "execution_count": 11,
      "outputs": [
        {
          "output_type": "stream",
          "name": "stdout",
          "text": [
            "dict_keys(['pageProps', '__N_SSP'])\n",
            "/jobs/info/[id]\n",
            "{'id': '685a54b5be2d7e56476268d7'}\n",
            "jMb_qVKvcyN7KO6FTCBGV\n",
            "False\n",
            "True\n",
            "[]\n"
          ]
        }
      ]
    },
    {
      "cell_type": "code",
      "source": [
        "print(data['props']['pageProps']['baseSalary'])\n",
        "print(data['props']['pageProps']['jobLocation'])\n",
        "print(data['props']['pageProps']['logined'])\n",
        "print(data['props']['pageProps']['jobHashedId'])\n",
        "print(data['props']['pageProps']['_sentryTraceData'])\n",
        "print(data['props']['pageProps']['_sentryBaggage'])"
      ],
      "metadata": {
        "id": "7G4nb_jAm9P1",
        "outputId": "4797d7bb-2db2-47a5-a965-ea1ada72342b",
        "colab": {
          "base_uri": "https://localhost:8080/"
        }
      },
      "execution_count": 19,
      "outputs": [
        {
          "output_type": "stream",
          "name": "stdout",
          "text": [
            "{'currency': 'USD', 'value': {'minValue': 20000, 'maxValue': 30000, 'unitText': 'YEAR', '@type': 'QuantitativeValue'}, '@type': 'MonetaryAmount'}\n",
            "{'address': {'addressLocality': 'IN / Remote (IN)', 'addressCountry': 'US', '@type': 'PostalAddress'}, 'latitude': 0, 'longitude': 0, '@type': 'Place'}\n",
            "False\n",
            "685a54b5be2d7e56476268d7\n",
            "74f1e40ce1b14b718a372b05d8a3070a-93af864dd954a888-0\n",
            "sentry-environment=production,sentry-release=pigeon_production%40v0.0.819,sentry-public_key=5f46138160b2461b9e0fb4bb1cc803bc,sentry-trace_id=74f1e40ce1b14b718a372b05d8a3070a,sentry-sample_rate=0.01,sentry-transaction=%2Fjobs%2Finfo%2F%5Bid%5D,sentry-sampled=false\n"
          ]
        }
      ]
    },
    {
      "cell_type": "code",
      "source": [
        "data['props']['pageProps']['dataSource']"
      ],
      "metadata": {
        "id": "eKJpjkecmnss",
        "outputId": "feb6ed15-08e4-4f04-e4bb-7154585d8ad1",
        "colab": {
          "base_uri": "https://localhost:8080/"
        }
      },
      "execution_count": 14,
      "outputs": [
        {
          "output_type": "execute_result",
          "data": {
            "text/plain": [
              "{'displayScore': 0,\n",
              " 'pos': 0,\n",
              " 'jobResult': {'jobId': '685a54b5be2d7e56476268d7',\n",
              "  'jobTitle': 'Backend Engineer (India)',\n",
              "  'jobNlpTitle': 'Backend Engineer',\n",
              "  'jobSeniority': 'New Grad, Entry Level',\n",
              "  'jobLocation': 'IN / Remote (IN)',\n",
              "  'isRemote': True,\n",
              "  'workModel': 'Remote',\n",
              "  'publishTime': '2025-06-24 07:33:09',\n",
              "  'publishTimeDesc': '3 hours ago',\n",
              "  'salaryDesc': '$20K/yr - $30K/yr',\n",
              "  'employmentType': 'Full-time',\n",
              "  'jobSummary': 'VectorShift is a company that builds, designs, prototypes, and deploys custom generative AI workflows. As a Backend Engineer, you will work on improving workflow efficiency, integrating AI developments into the platform, and managing database infrastructure.',\n",
              "  'jobRecruiter': '',\n",
              "  'jobRecruiterProfileUrl': '',\n",
              "  'applicantsCount': 83,\n",
              "  'coreResponsibilities': ['Work directly with the founders to conceptualize and implement sub-products and features, end to end.',\n",
              "   'Lead technical architecture decisions, ensuring the platform is scalable and maintainable.',\n",
              "   'Drive forward performance optimization.',\n",
              "   'Establish foundational technical practices that will guide future team members.'],\n",
              "  'recommendationTags': [],\n",
              "  'jobTags': [],\n",
              "  'recommendationScores': [{'featureName': 'q_seniority_match',\n",
              "    'displayName': 'Experience Level',\n",
              "    'score': 0},\n",
              "   {'featureName': 'q_job_skill_match',\n",
              "    'displayName': 'Skill Match',\n",
              "    'score': 0},\n",
              "   {'featureName': 'q_industry_match',\n",
              "    'displayName': 'Industry Experience',\n",
              "    'score': 0}],\n",
              "  'skillSummaries': ['Degree in a technical discipline, preferably computer science.',\n",
              "   'Experience with Python/ FastAPI.',\n",
              "   'Understanding of performance optimization best practices.',\n",
              "   'Strong communication skills and ability to work in high paced environments.',\n",
              "   'Excellent problem solving skills and proven ability to overcome challenges.',\n",
              "   'Experience in early-stage startup environments.',\n",
              "   'Experience with no/low-code platforms.',\n",
              "   'Experience in AI, machine learning, and building RAG workflows.'],\n",
              "  'educationSummaries': [],\n",
              "  'benefitsSummaries': [],\n",
              "  'skillMatchingScores': [{'featureName': 'Python',\n",
              "    'displayName': 'Python',\n",
              "    'score': 0},\n",
              "   {'featureName': 'FastAPI', 'displayName': 'FastAPI', 'score': 0},\n",
              "   {'featureName': 'React', 'displayName': 'React', 'score': 0},\n",
              "   {'featureName': 'MongoDB', 'displayName': 'MongoDB', 'score': 0},\n",
              "   {'featureName': 'Redis', 'displayName': 'Redis', 'score': 0},\n",
              "   {'featureName': 'CSS', 'displayName': 'CSS', 'score': 0},\n",
              "   {'featureName': 'HTML', 'displayName': 'HTML', 'score': 0},\n",
              "   {'featureName': 'JavaScript', 'displayName': 'JavaScript', 'score': 0},\n",
              "   {'featureName': 'Performance optimization',\n",
              "    'displayName': 'Performance optimization',\n",
              "    'score': 0},\n",
              "   {'featureName': 'AI', 'displayName': 'AI', 'score': 0},\n",
              "   {'featureName': 'Machine learning',\n",
              "    'displayName': 'Machine learning',\n",
              "    'score': 0},\n",
              "   {'featureName': 'No-code platforms',\n",
              "    'displayName': 'No-code platforms',\n",
              "    'score': 0}],\n",
              "  'industryMatchingScores': [],\n",
              "  'isDeleted': False,\n",
              "  'jdLogo': 'https://media.licdn.com/dms/image/v2/D4E0BAQHA6tJ8FjLImQ/company-logo_200_200/company-logo_200_200/0/1686524725664?e=1753920000&v=beta&t=OHZtV7OdhQDJmz_5Npif9QKd5W8ikBqUsDt-rhMHlVI',\n",
              "  'firstTaxonomy': '',\n",
              "  'source': 220,\n",
              "  'socialConnections': [],\n",
              "  'lat': 0,\n",
              "  'lng': 0,\n",
              "  'jdCoreSkills': [{'skill': 'Python', 'score': 3, 'type': 'hard_skill'},\n",
              "   {'skill': 'FastAPI', 'score': 3, 'type': 'hard_skill'},\n",
              "   {'skill': 'React', 'score': 3, 'type': 'hard_skill'},\n",
              "   {'skill': 'MongoDB', 'score': 2, 'type': 'hard_skill'},\n",
              "   {'skill': 'Redis', 'score': 2, 'type': 'hard_skill'},\n",
              "   {'skill': 'CSS', 'score': 1, 'type': 'hard_skill'},\n",
              "   {'skill': 'HTML', 'score': 1, 'type': 'hard_skill'},\n",
              "   {'skill': 'JavaScript', 'score': 1, 'type': 'hard_skill'},\n",
              "   {'skill': 'Performance optimization', 'score': 1, 'type': 'hard_skill'},\n",
              "   {'skill': 'AI', 'score': 1, 'type': 'hard_skill'},\n",
              "   {'skill': 'Machine learning', 'score': 1, 'type': 'hard_skill'},\n",
              "   {'skill': 'No-code platforms', 'score': 1, 'type': 'hard_skill'}],\n",
              "  'jobTaxonomyV3': ['Engineering and Development',\n",
              "   'Software Engineering',\n",
              "   'Backend Software Engineer'],\n",
              "  'qualifications': {'mustHave': ['Degree in a technical discipline, preferably computer science.',\n",
              "    'Experience with Python/ FastAPI.',\n",
              "    'Understanding of performance optimization best practices.',\n",
              "    'Strong communication skills and ability to work in high paced environments.',\n",
              "    'Excellent problem solving skills and proven ability to overcome challenges.'],\n",
              "   'preferredHave': ['Experience in early-stage startup environments.',\n",
              "    'Experience with no/low-code platforms.',\n",
              "    'Experience in AI, machine learning, and building RAG workflows.']},\n",
              "  'detailQualifications': {'mustHave': {'yoe': [],\n",
              "    'education': [],\n",
              "    'hardSkill': [{'skill': 'Degree in technical discipline'},\n",
              "     {'skill': 'Python'},\n",
              "     {'skill': 'FastAPI'},\n",
              "     {'skill': 'Performance optimization'}],\n",
              "    'softSkill': [{'skill': 'communication skills'},\n",
              "     {'skill': 'work in high paced environments'},\n",
              "     {'skill': 'problem solving skills'}]},\n",
              "   'preferredHave': {'yoe': [],\n",
              "    'education': [],\n",
              "    'hardSkill': [{'skill': 'Startup experience'},\n",
              "     {'skill': 'No/low-code platforms'},\n",
              "     {'skill': 'AI experience'},\n",
              "     {'skill': 'Machine learning'},\n",
              "     {'skill': 'RAG workflows'}],\n",
              "    'softSkill': []}}},\n",
              " 'companyResult': {'companyId': '93236205',\n",
              "  'companyName': 'VectorShift',\n",
              "  'companySize': '2-10 employees',\n",
              "  'companyDesc': 'VectorShift Builds, designs, prototypes, and deploys custom generative AI workflows.',\n",
              "  'companyCategories': 'Apps,Artificial Intelligence (AI),Generative AI,Search Engine,Software',\n",
              "  'companyTwitterURL': '',\n",
              "  'companyLinkedinURL': 'https://www.linkedin.com/company/98020569',\n",
              "  'companyCrunchbaseURL': 'https://www.crunchbase.com/organization/vectorshift',\n",
              "  'companyFoundYear': '2023',\n",
              "  'companyLocation': 'San Francisco, California, USA',\n",
              "  'companyURL': 'https://www.vectorshift.ai',\n",
              "  'fundraisingCurrentStage': 'Early Stage',\n",
              "  'fundraisingTotalFunding': '$3M',\n",
              "  'fundraisingKeyInvestors': [],\n",
              "  'fundraisingLatestRounds': [{'investmentType': 'Seed',\n",
              "    'announcedOn': '2024-02-21',\n",
              "    'raisedAmountUsd': '$3M',\n",
              "    'postMoneyValuationUsd': '',\n",
              "    'investorCount': 7,\n",
              "    'leadInvestorName': ''},\n",
              "   {'investmentType': 'Seed',\n",
              "    'announcedOn': '2023-07-01',\n",
              "    'postMoneyValuationUsd': '',\n",
              "    'investorCount': 3,\n",
              "    'leadInvestorName': ''},\n",
              "   {'investmentType': 'Pre Seed',\n",
              "    'announcedOn': '2023-04-03',\n",
              "    'postMoneyValuationUsd': '2000000',\n",
              "    'investorCount': 1,\n",
              "    'leadInvestorName': ''}],\n",
              "  'leadership': [{'pname': 'Alex Leonardi',\n",
              "    'plogoUrl': 'https://images.crunchbase.com/image/upload/t_cb-default-original/fxc8u0c9etetje1pnrxg',\n",
              "    'ptitle': 'Co-Founder and CEO',\n",
              "    'plinkedinUrl': 'https://www.linkedin.com/in/alexanderleonardi'}],\n",
              "  'pressReferences': [{'url': 'https://468cap.com/vectorshift-raises-3m-to-build-ai-workflows/',\n",
              "    'postedOn': '2025-04-15',\n",
              "    'title': 'VectorShift raises $3M to build AI workflows',\n",
              "    'publisher': '468 Capital -'}],\n",
              "  'h1bAnnualJobCount': [],\n",
              "  'h1bTitleDistribution': [],\n",
              "  'isAgency': False,\n",
              "  'linkedinCompanyId': '98020569'}}"
            ]
          },
          "metadata": {},
          "execution_count": 14
        }
      ]
    }
  ],
  "metadata": {
    "colab": {
      "name": "Welcome To Colab",
      "provenance": [],
      "include_colab_link": true
    },
    "kernelspec": {
      "display_name": "Python 3",
      "name": "python3"
    }
  },
  "nbformat": 4,
  "nbformat_minor": 0
}