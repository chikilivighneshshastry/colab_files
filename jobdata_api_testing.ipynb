{
  "cells": [
    {
      "cell_type": "markdown",
      "metadata": {
        "id": "view-in-github",
        "colab_type": "text"
      },
      "source": [
        "<a href=\"https://colab.research.google.com/github/chikilivighneshshastry/colab_files/blob/main/jobdata_api_testing.ipynb\" target=\"_parent\"><img src=\"https://colab.research.google.com/assets/colab-badge.svg\" alt=\"Open In Colab\"/></a>"
      ]
    },
    {
      "cell_type": "code",
      "source": [
        "import requests\n",
        "\n",
        "cookies = {\n",
        "    'csrftoken': '5LSZIfHHmDnSIaZKDsN0hGYXaWQhOJGV',\n",
        "}\n",
        "\n",
        "headers = {\n",
        "    'accept': 'application/json',\n",
        "    'accept-language': 'en-US,en;q=0.9',\n",
        "    'priority': 'u=1, i',\n",
        "    'referer': 'https://jobdataapi.com/api/schema/swagger-ui/',\n",
        "    'sec-ch-ua': '\"Google Chrome\";v=\"137\", \"Chromium\";v=\"137\", \"Not/A)Brand\";v=\"24\"',\n",
        "    'sec-ch-ua-mobile': '?0',\n",
        "    'sec-ch-ua-platform': '\"Windows\"',\n",
        "    'sec-fetch-dest': 'empty',\n",
        "    'sec-fetch-mode': 'cors',\n",
        "    'sec-fetch-site': 'same-origin',\n",
        "    'user-agent': 'Mozilla/5.0 (Windows NT 10.0; Win64; x64) AppleWebKit/537.36 (KHTML, like Gecko) Chrome/137.0.0.0 Safari/537.36',\n",
        "    # 'cookie': 'csrftoken=5LSZIfHHmDnSIaZKDsN0hGYXaWQhOJGV',\n",
        "}\n",
        "parameters = {\n",
        "    'country_code' : 'IN'\n",
        "}\n",
        "\n",
        "response = requests.get('https://jobdataapi.com/api/jobs/', cookies=cookies, headers=headers,params=parameters)\n",
        "\n",
        "print(response)"
      ],
      "metadata": {
        "id": "on0LgSdj1GqT"
      },
      "execution_count": null,
      "outputs": []
    },
    {
      "cell_type": "code",
      "source": [
        "print(response.json())\n",
        "data = response.json()"
      ],
      "metadata": {
        "id": "XlWy1u0i1Xo6"
      },
      "execution_count": null,
      "outputs": []
    },
    {
      "cell_type": "code",
      "source": [
        "results = data['results']\n",
        "print(results)\n",
        "len(results)"
      ],
      "metadata": {
        "id": "4megXFX41mkl"
      },
      "execution_count": null,
      "outputs": []
    },
    {
      "cell_type": "code",
      "source": [
        "import json\n",
        "job_post = results[0]\n",
        "\n",
        "json.dumps(job_post['cities'])"
      ],
      "metadata": {
        "id": "ucIvcnad4BcK"
      },
      "execution_count": null,
      "outputs": []
    },
    {
      "cell_type": "code",
      "source": [
        "import pandas as pd\n",
        "\n",
        "df = pd.DataFrame(results)\n",
        "\n",
        "df\n"
      ],
      "metadata": {
        "id": "doOcMIxh22HU"
      },
      "execution_count": null,
      "outputs": []
    },
    {
      "source": [
        "# @title experience_level vs salary_min\n",
        "\n",
        "from matplotlib import pyplot as plt\n",
        "import seaborn as sns\n",
        "import pandas as pd\n",
        "plt.subplots(figsize=(8, 8))\n",
        "df_2dhist = pd.DataFrame({\n",
        "    x_label: grp['salary_min'].value_counts()\n",
        "    for x_label, grp in df.groupby('experience_level')\n",
        "})\n",
        "sns.heatmap(df_2dhist, cmap='viridis')\n",
        "plt.xlabel('experience_level')\n",
        "_ = plt.ylabel('salary_min')"
      ],
      "cell_type": "code",
      "execution_count": null,
      "outputs": [],
      "metadata": {
        "cellView": "form",
        "collapsed": true,
        "id": "Yh9B6oCR8n8Y"
      }
    },
    {
      "cell_type": "code",
      "source": [
        "print(df['application_url'][0])"
      ],
      "metadata": {
        "id": "tp5XNrD18e3X"
      },
      "execution_count": null,
      "outputs": []
    },
    {
      "cell_type": "code",
      "source": [
        "df_city_fil = df[df['has_remote'].apply(lambda x: x)]\n",
        "print(df_city_fil)"
      ],
      "metadata": {
        "id": "8zBjqerd6_FU"
      },
      "execution_count": null,
      "outputs": []
    },
    {
      "cell_type": "code",
      "source": [
        "col = '[id, ext_id, company, title, location, types, cities, states, countries, regions, has_remote, published, description, experience_level, application_url, language, salary_min, salary_max, salary_currency]'\n",
        "\n",
        "data = list(col.split(','))\n",
        "data"
      ],
      "metadata": {
        "colab": {
          "base_uri": "https://localhost:8080/"
        },
        "id": "GKLUvsnn_Gn_",
        "outputId": "00af030c-9769-4955-d807-b4d980e788c9"
      },
      "execution_count": 42,
      "outputs": [
        {
          "output_type": "execute_result",
          "data": {
            "text/plain": [
              "['[id',\n",
              " ' ext_id',\n",
              " ' company',\n",
              " ' title',\n",
              " ' location',\n",
              " ' types',\n",
              " ' cities',\n",
              " ' states',\n",
              " ' countries',\n",
              " ' regions',\n",
              " ' has_remote',\n",
              " ' published',\n",
              " ' description',\n",
              " ' experience_level',\n",
              " ' application_url',\n",
              " ' language',\n",
              " ' salary_min',\n",
              " ' salary_max',\n",
              " ' salary_currency]']"
            ]
          },
          "metadata": {},
          "execution_count": 42
        }
      ]
    }
  ],
  "metadata": {
    "colab": {
      "name": "Welcome to Colab",
      "provenance": [],
      "include_colab_link": true
    },
    "kernelspec": {
      "display_name": "Python 3",
      "name": "python3"
    }
  },
  "nbformat": 4,
  "nbformat_minor": 0
}