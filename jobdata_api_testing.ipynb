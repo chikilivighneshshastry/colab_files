{
  "cells": [
    {
      "cell_type": "markdown",
      "metadata": {
        "id": "view-in-github",
        "colab_type": "text"
      },
      "source": [
        "<a href=\"https://colab.research.google.com/github/chikilivighneshshastry/colab_files/blob/main/jobdata_api_testing.ipynb\" target=\"_parent\"><img src=\"https://colab.research.google.com/assets/colab-badge.svg\" alt=\"Open In Colab\"/></a>"
      ]
    },
    {
      "cell_type": "code",
      "source": [
        "import requests\n",
        "from datetime import datetime, timedelta\n",
        "\n",
        "published_since = datetime.now() - timedelta(day=1)\n",
        "print(published_since)\n",
        "cookies = {\n",
        "    'csrftoken': '5LSZIfHHmDnSIaZKDsN0hGYXaWQhOJGV',\n",
        "}\n",
        "\n",
        "headers = {\n",
        "    'accept': 'application/json',\n",
        "    'accept-language': 'en-US,en;q=0.9',\n",
        "    'priority': 'u=1, i',\n",
        "    'referer': 'https://jobdataapi.com/api/schema/swagger-ui/',\n",
        "    'sec-ch-ua': '\"Google Chrome\";v=\"137\", \"Chromium\";v=\"137\", \"Not/A)Brand\";v=\"24\"',\n",
        "    'sec-ch-ua-mobile': '?0',\n",
        "    'sec-ch-ua-platform': '\"Windows\"',\n",
        "    'sec-fetch-dest': 'empty',\n",
        "    'sec-fetch-mode': 'cors',\n",
        "    'sec-fetch-site': 'same-origin',\n",
        "    'user-agent': 'Mozilla/5.0 (Windows NT 10.0; Win64; x64) AppleWebKit/537.36 (KHTML, like Gecko) Chrome/137.0.0.0 Safari/537.36',\n",
        "    # 'cookie': 'csrftoken=5LSZIfHHmDnSIaZKDsN0hGYXaWQhOJGV',\n",
        "}\n",
        "parameters = {\n",
        "    'country_code' : 'IN',\n",
        "    # 'page' : '',\n",
        "    # 'page_size' : 50,\n",
        "    'published_since' : published_since\n",
        "}\n",
        "\n",
        "response = requests.get('https://jobdataapi.com/api/jobs/', cookies=cookies, headers=headers,params=parameters)\n",
        "\n",
        "print(response)"
      ],
      "metadata": {
        "colab": {
          "base_uri": "https://localhost:8080/"
        },
        "id": "on0LgSdj1GqT",
        "outputId": "d9d113b9-82a3-4068-8176-90517e91850d"
      },
      "execution_count": null,
      "outputs": [
        {
          "output_type": "stream",
          "name": "stdout",
          "text": [
            "<Response [200]>\n"
          ]
        }
      ]
    },
    {
      "cell_type": "code",
      "source": [
        "import json\n",
        "# print(json.dumps(response.json()))\n",
        "data = response.json()\n",
        "json.dumps(response.json())"
      ],
      "metadata": {
        "id": "XlWy1u0i1Xo6"
      },
      "execution_count": null,
      "outputs": []
    },
    {
      "cell_type": "code",
      "source": [
        "results = data['results']\n",
        "print(results)\n",
        "len(results)"
      ],
      "metadata": {
        "id": "4megXFX41mkl"
      },
      "execution_count": null,
      "outputs": []
    },
    {
      "cell_type": "code",
      "source": [
        "import json\n",
        "job_post = results[0]\n",
        "\n",
        "json.dumps(job_post['cities'])"
      ],
      "metadata": {
        "id": "ucIvcnad4BcK"
      },
      "execution_count": null,
      "outputs": []
    },
    {
      "cell_type": "code",
      "source": [
        "import pandas as pd\n",
        "\n",
        "df = pd.DataFrame(results)\n",
        "\n",
        "df\n"
      ],
      "metadata": {
        "id": "doOcMIxh22HU"
      },
      "execution_count": null,
      "outputs": []
    },
    {
      "source": [
        "# @title experience_level vs salary_min\n",
        "\n",
        "from matplotlib import pyplot as plt\n",
        "import seaborn as sns\n",
        "import pandas as pd\n",
        "plt.subplots(figsize=(8, 8))\n",
        "df_2dhist = pd.DataFrame({\n",
        "    x_label: grp['salary_min'].value_counts()\n",
        "    for x_label, grp in df.groupby('experience_level')\n",
        "})\n",
        "sns.heatmap(df_2dhist, cmap='viridis')\n",
        "plt.xlabel('experience_level')\n",
        "_ = plt.ylabel('salary_min')"
      ],
      "cell_type": "code",
      "execution_count": null,
      "outputs": [],
      "metadata": {
        "cellView": "form",
        "collapsed": true,
        "id": "Yh9B6oCR8n8Y"
      }
    },
    {
      "cell_type": "code",
      "source": [
        "latest_published = df['published'].max()\n",
        "earliest_published = df['published'].min()\n",
        "\n",
        "print(f\"Latest published date: {latest_published}\")\n",
        "print(f\"Earliest published date: {earliest_published}\")\n",
        "\n",
        "# 3. Calculate the difference directly\n",
        "# latest_published and earliest_published are already datetime objects\n",
        "time_difference = latest_published - earliest_published"
      ],
      "metadata": {
        "id": "tp5XNrD18e3X"
      },
      "execution_count": null,
      "outputs": []
    },
    {
      "cell_type": "code",
      "source": [
        "df_city_fil = df[df['has_remote'].apply(lambda x: x)]\n",
        "print(df_city_fil)"
      ],
      "metadata": {
        "id": "8zBjqerd6_FU"
      },
      "execution_count": null,
      "outputs": []
    },
    {
      "cell_type": "code",
      "source": [
        "df.head(2)"
      ],
      "metadata": {
        "colab": {
          "base_uri": "https://localhost:8080/",
          "height": 305
        },
        "id": "gX8IQrF7DJxC",
        "outputId": "f6f5560b-ef80-414d-d605-4c957eafb8ad"
      },
      "execution_count": null,
      "outputs": [
        {
          "output_type": "execute_result",
          "data": {
            "text/plain": [
              "         id        ext_id                                            company  \\\n",
              "0  22145426  QLmbEm_7Nszm  {'id': 40577, 'name': 'Ditto Insurance', 'logo...   \n",
              "1  22144936  1sPlxCg44WeC  {'id': 40592, 'name': 'Affinity Global Inc.', ...   \n",
              "\n",
              "                             title                     location  \\\n",
              "0  Associate - Business Operations  Karnataka, Bengaluru, India   \n",
              "1     Associate Team Lead, Finance                Mumbai, India   \n",
              "\n",
              "                              types  \\\n",
              "0  [{'id': 1, 'name': 'Full Time'}]   \n",
              "1  [{'id': 1, 'name': 'Full Time'}]   \n",
              "\n",
              "                                              cities  \\\n",
              "0  [{'geonameid': 1277333, 'asciiname': 'Bengalur...   \n",
              "1  [{'geonameid': 1275339, 'asciiname': 'Mumbai',...   \n",
              "\n",
              "                                              states  \\\n",
              "0  [{'geonameid': 1267701, 'code': '19', 'asciina...   \n",
              "1  [{'geonameid': 1264418, 'code': '16', 'asciina...   \n",
              "\n",
              "                                           countries  \\\n",
              "0  [{'id': 105, 'code': 'IN', 'name': 'India', 'r...   \n",
              "1  [{'id': 105, 'code': 'IN', 'name': 'India', 'r...   \n",
              "\n",
              "                               regions  has_remote             published  \\\n",
              "0  [{'id': 2, 'name': 'Asia/Pacific'}]       False  2025-06-16T14:20:56Z   \n",
              "1  [{'id': 2, 'name': 'Asia/Pacific'}]       False  2025-06-16T14:09:07Z   \n",
              "\n",
              "                                         description experience_level  \\\n",
              "0  <p dir=\"ltr\"><span>Where Your Passion Meets Pu...               MI   \n",
              "1  <strong> </strong><strong>About Affinity </str...               MI   \n",
              "\n",
              "                                     application_url language salary_min  \\\n",
              "0  https://joinditto.freshteam.com/jobs/QLmbEm_7N...       en       None   \n",
              "1  https://affinity-talent.freshteam.com/jobs/1sP...       en       None   \n",
              "\n",
              "  salary_max salary_currency  \n",
              "0       None            None  \n",
              "1       None            None  "
            ],
            "text/html": [
              "\n",
              "  <div id=\"df-e036efab-6f33-4c98-95b8-8788f180641f\" class=\"colab-df-container\">\n",
              "    <div>\n",
              "<style scoped>\n",
              "    .dataframe tbody tr th:only-of-type {\n",
              "        vertical-align: middle;\n",
              "    }\n",
              "\n",
              "    .dataframe tbody tr th {\n",
              "        vertical-align: top;\n",
              "    }\n",
              "\n",
              "    .dataframe thead th {\n",
              "        text-align: right;\n",
              "    }\n",
              "</style>\n",
              "<table border=\"1\" class=\"dataframe\">\n",
              "  <thead>\n",
              "    <tr style=\"text-align: right;\">\n",
              "      <th></th>\n",
              "      <th>id</th>\n",
              "      <th>ext_id</th>\n",
              "      <th>company</th>\n",
              "      <th>title</th>\n",
              "      <th>location</th>\n",
              "      <th>types</th>\n",
              "      <th>cities</th>\n",
              "      <th>states</th>\n",
              "      <th>countries</th>\n",
              "      <th>regions</th>\n",
              "      <th>has_remote</th>\n",
              "      <th>published</th>\n",
              "      <th>description</th>\n",
              "      <th>experience_level</th>\n",
              "      <th>application_url</th>\n",
              "      <th>language</th>\n",
              "      <th>salary_min</th>\n",
              "      <th>salary_max</th>\n",
              "      <th>salary_currency</th>\n",
              "    </tr>\n",
              "  </thead>\n",
              "  <tbody>\n",
              "    <tr>\n",
              "      <th>0</th>\n",
              "      <td>22145426</td>\n",
              "      <td>QLmbEm_7Nszm</td>\n",
              "      <td>{'id': 40577, 'name': 'Ditto Insurance', 'logo...</td>\n",
              "      <td>Associate - Business Operations</td>\n",
              "      <td>Karnataka, Bengaluru, India</td>\n",
              "      <td>[{'id': 1, 'name': 'Full Time'}]</td>\n",
              "      <td>[{'geonameid': 1277333, 'asciiname': 'Bengalur...</td>\n",
              "      <td>[{'geonameid': 1267701, 'code': '19', 'asciina...</td>\n",
              "      <td>[{'id': 105, 'code': 'IN', 'name': 'India', 'r...</td>\n",
              "      <td>[{'id': 2, 'name': 'Asia/Pacific'}]</td>\n",
              "      <td>False</td>\n",
              "      <td>2025-06-16T14:20:56Z</td>\n",
              "      <td>&lt;p dir=\"ltr\"&gt;&lt;span&gt;Where Your Passion Meets Pu...</td>\n",
              "      <td>MI</td>\n",
              "      <td>https://joinditto.freshteam.com/jobs/QLmbEm_7N...</td>\n",
              "      <td>en</td>\n",
              "      <td>None</td>\n",
              "      <td>None</td>\n",
              "      <td>None</td>\n",
              "    </tr>\n",
              "    <tr>\n",
              "      <th>1</th>\n",
              "      <td>22144936</td>\n",
              "      <td>1sPlxCg44WeC</td>\n",
              "      <td>{'id': 40592, 'name': 'Affinity Global Inc.', ...</td>\n",
              "      <td>Associate Team Lead, Finance</td>\n",
              "      <td>Mumbai, India</td>\n",
              "      <td>[{'id': 1, 'name': 'Full Time'}]</td>\n",
              "      <td>[{'geonameid': 1275339, 'asciiname': 'Mumbai',...</td>\n",
              "      <td>[{'geonameid': 1264418, 'code': '16', 'asciina...</td>\n",
              "      <td>[{'id': 105, 'code': 'IN', 'name': 'India', 'r...</td>\n",
              "      <td>[{'id': 2, 'name': 'Asia/Pacific'}]</td>\n",
              "      <td>False</td>\n",
              "      <td>2025-06-16T14:09:07Z</td>\n",
              "      <td>&lt;strong&gt; &lt;/strong&gt;&lt;strong&gt;About Affinity &lt;/str...</td>\n",
              "      <td>MI</td>\n",
              "      <td>https://affinity-talent.freshteam.com/jobs/1sP...</td>\n",
              "      <td>en</td>\n",
              "      <td>None</td>\n",
              "      <td>None</td>\n",
              "      <td>None</td>\n",
              "    </tr>\n",
              "  </tbody>\n",
              "</table>\n",
              "</div>\n",
              "    <div class=\"colab-df-buttons\">\n",
              "\n",
              "  <div class=\"colab-df-container\">\n",
              "    <button class=\"colab-df-convert\" onclick=\"convertToInteractive('df-e036efab-6f33-4c98-95b8-8788f180641f')\"\n",
              "            title=\"Convert this dataframe to an interactive table.\"\n",
              "            style=\"display:none;\">\n",
              "\n",
              "  <svg xmlns=\"http://www.w3.org/2000/svg\" height=\"24px\" viewBox=\"0 -960 960 960\">\n",
              "    <path d=\"M120-120v-720h720v720H120Zm60-500h600v-160H180v160Zm220 220h160v-160H400v160Zm0 220h160v-160H400v160ZM180-400h160v-160H180v160Zm440 0h160v-160H620v160ZM180-180h160v-160H180v160Zm440 0h160v-160H620v160Z\"/>\n",
              "  </svg>\n",
              "    </button>\n",
              "\n",
              "  <style>\n",
              "    .colab-df-container {\n",
              "      display:flex;\n",
              "      gap: 12px;\n",
              "    }\n",
              "\n",
              "    .colab-df-convert {\n",
              "      background-color: #E8F0FE;\n",
              "      border: none;\n",
              "      border-radius: 50%;\n",
              "      cursor: pointer;\n",
              "      display: none;\n",
              "      fill: #1967D2;\n",
              "      height: 32px;\n",
              "      padding: 0 0 0 0;\n",
              "      width: 32px;\n",
              "    }\n",
              "\n",
              "    .colab-df-convert:hover {\n",
              "      background-color: #E2EBFA;\n",
              "      box-shadow: 0px 1px 2px rgba(60, 64, 67, 0.3), 0px 1px 3px 1px rgba(60, 64, 67, 0.15);\n",
              "      fill: #174EA6;\n",
              "    }\n",
              "\n",
              "    .colab-df-buttons div {\n",
              "      margin-bottom: 4px;\n",
              "    }\n",
              "\n",
              "    [theme=dark] .colab-df-convert {\n",
              "      background-color: #3B4455;\n",
              "      fill: #D2E3FC;\n",
              "    }\n",
              "\n",
              "    [theme=dark] .colab-df-convert:hover {\n",
              "      background-color: #434B5C;\n",
              "      box-shadow: 0px 1px 3px 1px rgba(0, 0, 0, 0.15);\n",
              "      filter: drop-shadow(0px 1px 2px rgba(0, 0, 0, 0.3));\n",
              "      fill: #FFFFFF;\n",
              "    }\n",
              "  </style>\n",
              "\n",
              "    <script>\n",
              "      const buttonEl =\n",
              "        document.querySelector('#df-e036efab-6f33-4c98-95b8-8788f180641f button.colab-df-convert');\n",
              "      buttonEl.style.display =\n",
              "        google.colab.kernel.accessAllowed ? 'block' : 'none';\n",
              "\n",
              "      async function convertToInteractive(key) {\n",
              "        const element = document.querySelector('#df-e036efab-6f33-4c98-95b8-8788f180641f');\n",
              "        const dataTable =\n",
              "          await google.colab.kernel.invokeFunction('convertToInteractive',\n",
              "                                                    [key], {});\n",
              "        if (!dataTable) return;\n",
              "\n",
              "        const docLinkHtml = 'Like what you see? Visit the ' +\n",
              "          '<a target=\"_blank\" href=https://colab.research.google.com/notebooks/data_table.ipynb>data table notebook</a>'\n",
              "          + ' to learn more about interactive tables.';\n",
              "        element.innerHTML = '';\n",
              "        dataTable['output_type'] = 'display_data';\n",
              "        await google.colab.output.renderOutput(dataTable, element);\n",
              "        const docLink = document.createElement('div');\n",
              "        docLink.innerHTML = docLinkHtml;\n",
              "        element.appendChild(docLink);\n",
              "      }\n",
              "    </script>\n",
              "  </div>\n",
              "\n",
              "\n",
              "    <div id=\"df-7eee4bf9-e446-4467-aec2-21d555b7fc4a\">\n",
              "      <button class=\"colab-df-quickchart\" onclick=\"quickchart('df-7eee4bf9-e446-4467-aec2-21d555b7fc4a')\"\n",
              "                title=\"Suggest charts\"\n",
              "                style=\"display:none;\">\n",
              "\n",
              "<svg xmlns=\"http://www.w3.org/2000/svg\" height=\"24px\"viewBox=\"0 0 24 24\"\n",
              "     width=\"24px\">\n",
              "    <g>\n",
              "        <path d=\"M19 3H5c-1.1 0-2 .9-2 2v14c0 1.1.9 2 2 2h14c1.1 0 2-.9 2-2V5c0-1.1-.9-2-2-2zM9 17H7v-7h2v7zm4 0h-2V7h2v10zm4 0h-2v-4h2v4z\"/>\n",
              "    </g>\n",
              "</svg>\n",
              "      </button>\n",
              "\n",
              "<style>\n",
              "  .colab-df-quickchart {\n",
              "      --bg-color: #E8F0FE;\n",
              "      --fill-color: #1967D2;\n",
              "      --hover-bg-color: #E2EBFA;\n",
              "      --hover-fill-color: #174EA6;\n",
              "      --disabled-fill-color: #AAA;\n",
              "      --disabled-bg-color: #DDD;\n",
              "  }\n",
              "\n",
              "  [theme=dark] .colab-df-quickchart {\n",
              "      --bg-color: #3B4455;\n",
              "      --fill-color: #D2E3FC;\n",
              "      --hover-bg-color: #434B5C;\n",
              "      --hover-fill-color: #FFFFFF;\n",
              "      --disabled-bg-color: #3B4455;\n",
              "      --disabled-fill-color: #666;\n",
              "  }\n",
              "\n",
              "  .colab-df-quickchart {\n",
              "    background-color: var(--bg-color);\n",
              "    border: none;\n",
              "    border-radius: 50%;\n",
              "    cursor: pointer;\n",
              "    display: none;\n",
              "    fill: var(--fill-color);\n",
              "    height: 32px;\n",
              "    padding: 0;\n",
              "    width: 32px;\n",
              "  }\n",
              "\n",
              "  .colab-df-quickchart:hover {\n",
              "    background-color: var(--hover-bg-color);\n",
              "    box-shadow: 0 1px 2px rgba(60, 64, 67, 0.3), 0 1px 3px 1px rgba(60, 64, 67, 0.15);\n",
              "    fill: var(--button-hover-fill-color);\n",
              "  }\n",
              "\n",
              "  .colab-df-quickchart-complete:disabled,\n",
              "  .colab-df-quickchart-complete:disabled:hover {\n",
              "    background-color: var(--disabled-bg-color);\n",
              "    fill: var(--disabled-fill-color);\n",
              "    box-shadow: none;\n",
              "  }\n",
              "\n",
              "  .colab-df-spinner {\n",
              "    border: 2px solid var(--fill-color);\n",
              "    border-color: transparent;\n",
              "    border-bottom-color: var(--fill-color);\n",
              "    animation:\n",
              "      spin 1s steps(1) infinite;\n",
              "  }\n",
              "\n",
              "  @keyframes spin {\n",
              "    0% {\n",
              "      border-color: transparent;\n",
              "      border-bottom-color: var(--fill-color);\n",
              "      border-left-color: var(--fill-color);\n",
              "    }\n",
              "    20% {\n",
              "      border-color: transparent;\n",
              "      border-left-color: var(--fill-color);\n",
              "      border-top-color: var(--fill-color);\n",
              "    }\n",
              "    30% {\n",
              "      border-color: transparent;\n",
              "      border-left-color: var(--fill-color);\n",
              "      border-top-color: var(--fill-color);\n",
              "      border-right-color: var(--fill-color);\n",
              "    }\n",
              "    40% {\n",
              "      border-color: transparent;\n",
              "      border-right-color: var(--fill-color);\n",
              "      border-top-color: var(--fill-color);\n",
              "    }\n",
              "    60% {\n",
              "      border-color: transparent;\n",
              "      border-right-color: var(--fill-color);\n",
              "    }\n",
              "    80% {\n",
              "      border-color: transparent;\n",
              "      border-right-color: var(--fill-color);\n",
              "      border-bottom-color: var(--fill-color);\n",
              "    }\n",
              "    90% {\n",
              "      border-color: transparent;\n",
              "      border-bottom-color: var(--fill-color);\n",
              "    }\n",
              "  }\n",
              "</style>\n",
              "\n",
              "      <script>\n",
              "        async function quickchart(key) {\n",
              "          const quickchartButtonEl =\n",
              "            document.querySelector('#' + key + ' button');\n",
              "          quickchartButtonEl.disabled = true;  // To prevent multiple clicks.\n",
              "          quickchartButtonEl.classList.add('colab-df-spinner');\n",
              "          try {\n",
              "            const charts = await google.colab.kernel.invokeFunction(\n",
              "                'suggestCharts', [key], {});\n",
              "          } catch (error) {\n",
              "            console.error('Error during call to suggestCharts:', error);\n",
              "          }\n",
              "          quickchartButtonEl.classList.remove('colab-df-spinner');\n",
              "          quickchartButtonEl.classList.add('colab-df-quickchart-complete');\n",
              "        }\n",
              "        (() => {\n",
              "          let quickchartButtonEl =\n",
              "            document.querySelector('#df-7eee4bf9-e446-4467-aec2-21d555b7fc4a button');\n",
              "          quickchartButtonEl.style.display =\n",
              "            google.colab.kernel.accessAllowed ? 'block' : 'none';\n",
              "        })();\n",
              "      </script>\n",
              "    </div>\n",
              "\n",
              "    </div>\n",
              "  </div>\n"
            ],
            "application/vnd.google.colaboratory.intrinsic+json": {
              "type": "dataframe",
              "variable_name": "df",
              "summary": "{\n  \"name\": \"df\",\n  \"rows\": 100,\n  \"fields\": [\n    {\n      \"column\": \"id\",\n      \"properties\": {\n        \"dtype\": \"number\",\n        \"std\": 2215,\n        \"min\": 22138324,\n        \"max\": 22145426,\n        \"num_unique_values\": 100,\n        \"samples\": [\n          22140429,\n          22139734,\n          22138855\n        ],\n        \"semantic_type\": \"\",\n        \"description\": \"\"\n      }\n    },\n    {\n      \"column\": \"ext_id\",\n      \"properties\": {\n        \"dtype\": \"string\",\n        \"num_unique_values\": 100,\n        \"samples\": [\n          \"199191\",\n          \"HIG022478\",\n          \"KOL00HU\"\n        ],\n        \"semantic_type\": \"\",\n        \"description\": \"\"\n      }\n    },\n    {\n      \"column\": \"company\",\n      \"properties\": {\n        \"dtype\": \"object\",\n        \"semantic_type\": \"\",\n        \"description\": \"\"\n      }\n    },\n    {\n      \"column\": \"title\",\n      \"properties\": {\n        \"dtype\": \"string\",\n        \"num_unique_values\": 97,\n        \"samples\": [\n          \"Senior Manager of Software Engineering - Oracle, Informatica, Data Lake\",\n          \"Principal Consultant - APM Project Manager\",\n          \"Senior Analyst Power BI - FP&A Finance\"\n        ],\n        \"semantic_type\": \"\",\n        \"description\": \"\"\n      }\n    },\n    {\n      \"column\": \"location\",\n      \"properties\": {\n        \"dtype\": \"category\",\n        \"num_unique_values\": 49,\n        \"samples\": [\n          \"Infopark -Kochi, India\",\n          \"Chandigarh, India\",\n          \"KARNATAKA, Bengaluru, India\"\n        ],\n        \"semantic_type\": \"\",\n        \"description\": \"\"\n      }\n    },\n    {\n      \"column\": \"types\",\n      \"properties\": {\n        \"dtype\": \"object\",\n        \"semantic_type\": \"\",\n        \"description\": \"\"\n      }\n    },\n    {\n      \"column\": \"cities\",\n      \"properties\": {\n        \"dtype\": \"object\",\n        \"semantic_type\": \"\",\n        \"description\": \"\"\n      }\n    },\n    {\n      \"column\": \"states\",\n      \"properties\": {\n        \"dtype\": \"object\",\n        \"semantic_type\": \"\",\n        \"description\": \"\"\n      }\n    },\n    {\n      \"column\": \"countries\",\n      \"properties\": {\n        \"dtype\": \"object\",\n        \"semantic_type\": \"\",\n        \"description\": \"\"\n      }\n    },\n    {\n      \"column\": \"regions\",\n      \"properties\": {\n        \"dtype\": \"object\",\n        \"semantic_type\": \"\",\n        \"description\": \"\"\n      }\n    },\n    {\n      \"column\": \"has_remote\",\n      \"properties\": {\n        \"dtype\": \"boolean\",\n        \"num_unique_values\": 1,\n        \"samples\": [\n          false\n        ],\n        \"semantic_type\": \"\",\n        \"description\": \"\"\n      }\n    },\n    {\n      \"column\": \"published\",\n      \"properties\": {\n        \"dtype\": \"object\",\n        \"num_unique_values\": 98,\n        \"samples\": [\n          \"2025-06-16T12:47:44Z\"\n        ],\n        \"semantic_type\": \"\",\n        \"description\": \"\"\n      }\n    },\n    {\n      \"column\": \"description\",\n      \"properties\": {\n        \"dtype\": \"string\",\n        \"num_unique_values\": 98,\n        \"samples\": [\n          \"<p>When you mentor and advise multiple technical teams and move financial technologies forward, it\\u2019s a big challenge with big impact. You were made for this.</p>\\n<p>\\u00a0</p>\\n<p>As a Senior Manager of Software Engineering at JPMorgan Chase within the Commercial &amp; Investment Banking's Equities Tech team you are an integral part of an agile team that works to enhance, build, and deliver trusted market-leading technology products in a secure, stable, and scalable way. Drive significant business impact through your capabilities and contributions, and apply deep technical expertise and problem-solving methodologies to tackle a diverse array of challenges that span multiple technologies and applications.</p>\\n<p><strong>Job responsibilities</strong></p>\\n<ul>\\n<li>Lead a\\u00a0large technology platform, but with an objective to propose and lead the transformation agenda</li>\\n<li>Collaborate effectively within large teams to achieve organizational goals, demonstrating strong team player qualities and project ownership.</li>\\n<li>Provide technical guidance and direction to support the business and its technical teams, contractors, and vendors</li>\\n<li>Develop secure and high-quality production code, and reviews and debugs code written by others\\u00a0</li>\\n<li>Drive decisions that influence the product design, application functionality, and technical operations and processes</li>\\n<li>Provide maintenance and support for enterprise-level data integration solutions.</li>\\n<li>Serve as a function-wide subject matter expert in one or more areas of focus\\u00a0</li>\\n<li>Understand and contribute to architecture and design across systems.</li>\\n<li>Add to the team culture of diversity, equity, inclusion, and respect</li>\\n</ul>\\n<p>\\u00a0</p>\\n<p><strong>Required qualifications, capabilities, and skills</strong></p>\\n<ul>\\n<li>Formal training or certification on software engineering concepts and 5+ years applied experience. In addition, 2 + years of experience leading technologists to manage and solve complex technical items within your domain of expertise \\u00a0</li>\\n<li>Over 10 years of proven experience in database solution implementation and ETL processes within the financial industry</li>\\n<li>Demonstrate proficiency in application, data, and infrastructure architecture disciplines, especially in managing high-volume data.</li>\\n<li>Utilize strong Oracle database knowledge, including Oracle, PL/SQL, performance tuning, and ETL-Informatica.</li>\\n<li>Handle complex SQL joins, correlated sub-queries, aggregate functions, analytic functions, materialized views, indexing, partitioning, and performance tuning using explain plans.</li>\\n<li>Lead the analysis, design, development, testing, and implementation of ETL processes, using Informatica.</li>\\n<li>Implement solutions using Postgres and cloud-based technologies.</li>\\n<li>Apply knowledge of Data Lake and Data Warehouse concepts and implementation within an agile software delivery lifecycle.</li>\\n<li>Manage the issue resolution process for application production problems, ensuring minimal disruption.</li>\\n<li>Production and BAU AD L3 Support: Provide Level 3 support for production and business-as-usual activities, ensuring system reliability and performance.</li>\\n</ul>\\n\\n \\u00a0\\n\\n\\n<strong>Preferred qualifications, capabilities, and skills</strong>\\n\\n<ul>\\n<li>Experience with Python and Java is highly advantageous</li>\\n<li>Knowledge of big data technologies, such as Snowflake, and integration experience is a plus.</li>\\n<li>Stay informed about industry-wide technology trends and best practices.</li>\\n<li>Show eagerness to learn new technologies and adapt to evolving industry standards.</li>\\n</ul>\"\n        ],\n        \"semantic_type\": \"\",\n        \"description\": \"\"\n      }\n    },\n    {\n      \"column\": \"experience_level\",\n      \"properties\": {\n        \"dtype\": \"category\",\n        \"num_unique_values\": 4,\n        \"samples\": [\n          \"SE\"\n        ],\n        \"semantic_type\": \"\",\n        \"description\": \"\"\n      }\n    },\n    {\n      \"column\": \"application_url\",\n      \"properties\": {\n        \"dtype\": \"string\",\n        \"num_unique_values\": 100,\n        \"samples\": [\n          \"https://hcbt.fa.em2.oraclecloud.com/hcmUI/CandidateExperience/en/sites/jobsearch/job/199191\"\n        ],\n        \"semantic_type\": \"\",\n        \"description\": \"\"\n      }\n    },\n    {\n      \"column\": \"language\",\n      \"properties\": {\n        \"dtype\": \"category\",\n        \"num_unique_values\": 1,\n        \"samples\": [\n          \"en\"\n        ],\n        \"semantic_type\": \"\",\n        \"description\": \"\"\n      }\n    },\n    {\n      \"column\": \"salary_min\",\n      \"properties\": {\n        \"dtype\": \"category\",\n        \"num_unique_values\": 1,\n        \"samples\": [\n          \"41000\"\n        ],\n        \"semantic_type\": \"\",\n        \"description\": \"\"\n      }\n    },\n    {\n      \"column\": \"salary_max\",\n      \"properties\": {\n        \"dtype\": \"category\",\n        \"num_unique_values\": 1,\n        \"samples\": [\n          \"145000\"\n        ],\n        \"semantic_type\": \"\",\n        \"description\": \"\"\n      }\n    },\n    {\n      \"column\": \"salary_currency\",\n      \"properties\": {\n        \"dtype\": \"category\",\n        \"num_unique_values\": 1,\n        \"samples\": [\n          \"USD\"\n        ],\n        \"semantic_type\": \"\",\n        \"description\": \"\"\n      }\n    }\n  ]\n}"
            }
          },
          "metadata": {},
          "execution_count": 48
        }
      ]
    },
    {
      "cell_type": "code",
      "source": [
        "company_name = df['company'][0]\n",
        "print(company_name)"
      ],
      "metadata": {
        "id": "n9Wd04zMSrmr",
        "outputId": "7ee3cccb-41e5-4ff3-eb1d-cab4774dc854",
        "colab": {
          "base_uri": "https://localhost:8080/"
        }
      },
      "execution_count": null,
      "outputs": [
        {
          "output_type": "stream",
          "name": "stdout",
          "text": [
            "{'id': 40577, 'name': 'Ditto Insurance', 'logo': 'https://jobdataapi.com/media/company/logo/25/04/logo_img_nAOjTWk.png', 'website_url': 'https://joinditto.in/', 'linkedin_url': 'https://www.linkedin.com/company/ditto-insurance/', 'twitter_handle': 'joinditto', 'github_url': None, 'is_agency': False}\n"
          ]
        }
      ]
    },
    {
      "cell_type": "markdown",
      "metadata": {
        "id": "8b4c6f6d"
      },
      "source": [
        "**Reasoning**:\n",
        "Import the sqlite3 library, define the database file name, establish a connection, and create a cursor.\n",
        "\n"
      ]
    },
    {
      "cell_type": "code",
      "metadata": {
        "id": "7801a5eb"
      },
      "source": [
        "import sqlite3\n",
        "\n",
        "db = './jobs_data.db'\n",
        "conn = sqlite3.connect(db)\n",
        "cursor = conn.cursor()"
      ],
      "execution_count": null,
      "outputs": []
    },
    {
      "cell_type": "markdown",
      "metadata": {
        "id": "39443c4b"
      },
      "source": [
        "## Create table if not exists\n",
        "\n",
        "### Subtask:\n",
        "Define and create the table in the database with appropriate columns if it doesn't already exist.\n"
      ]
    },
    {
      "cell_type": "markdown",
      "metadata": {
        "id": "3d83f261"
      },
      "source": [
        "**Reasoning**:\n",
        "Define and create the table in the database with appropriate columns if it doesn't already exist.\n",
        "\n"
      ]
    },
    {
      "cell_type": "code",
      "metadata": {
        "id": "51caea9a"
      },
      "source": [
        "create_table_sql = \"\"\"\n",
        "CREATE TABLE IF NOT EXISTS raw_jobdataapi_data (\n",
        "    id INTEGER PRIMARY KEY,\n",
        "    ext_id TEXT,\n",
        "    company TEXT,\n",
        "    title TEXT,\n",
        "    location TEXT,\n",
        "    types TEXT,\n",
        "    cities TEXT,\n",
        "    states TEXT,\n",
        "    countries TEXT,\n",
        "    regions TEXT,\n",
        "    has_remote BOOLEAN,\n",
        "    published TEXT,\n",
        "    description TEXT,\n",
        "    experience_level TEXT,\n",
        "    application_url TEXT,\n",
        "    language TEXT,\n",
        "    salary_min INTEGER,\n",
        "    salary_max INTEGER,\n",
        "    salary_currency TEXT\n",
        ")\n",
        "\"\"\"\n",
        "cursor.execute(create_table_sql)\n",
        "conn.commit()"
      ],
      "execution_count": null,
      "outputs": []
    },
    {
      "cell_type": "markdown",
      "metadata": {
        "id": "c2d2583a"
      },
      "source": [
        "**Reasoning**:\n",
        "Iterate through the DataFrame, check for existing records by id, and insert new records into the SQLite database, converting complex types to JSON strings.\n",
        "\n"
      ]
    },
    {
      "cell_type": "code",
      "metadata": {
        "id": "a1403f1a"
      },
      "source": [
        "import json\n",
        "import pandas as pd\n",
        "import sqlite3\n",
        "from datetime import datetime, timedelta\n",
        "\n",
        "\n",
        "published_since = datetime.now() - timedelta(day=1)\n",
        "db = './jobs_data.db'\n",
        "conn = sqlite3.connect(db)\n",
        "\n",
        "df = df[df['published']<20min] # correct this code\n",
        "\n",
        "# Get existing IDs from the database\n",
        "existing_ids = pd.read_sql(f\"SELECT id FROM raw_jobdataapi_data where published > {published_since}\", conn)['id'].tolist() # get last 20 min id's\n",
        "\n",
        "# Filter out rows that already exist in the database\n",
        "df_to_insert = df[~df['id'].isin(existing_ids)].copy()\n",
        "\n",
        "# Convert complex data types to JSON strings in the DataFrame\n",
        "for col in ['company', 'types', 'cities', 'states', 'countries', 'regions']:\n",
        "    df_to_insert[col] = df_to_insert[col].apply(lambda x: json.dumps(x) if isinstance(x, (dict, list)) else None)\n",
        "\n",
        "# Insert the filtered DataFrame into the SQLite database\n",
        "df_to_insert.to_sql('raw_jobdataapi_data', conn, if_exists='append', index=False)\n",
        "\n",
        "conn.commit()"
      ],
      "execution_count": null,
      "outputs": []
    },
    {
      "cell_type": "markdown",
      "metadata": {
        "id": "08909864"
      },
      "source": [
        "**Reasoning**:\n",
        "Close the connection to the SQLite database.\n",
        "\n"
      ]
    },
    {
      "cell_type": "code",
      "metadata": {
        "id": "99f381ee"
      },
      "source": [
        "conn.close()"
      ],
      "execution_count": null,
      "outputs": []
    },
    {
      "cell_type": "code",
      "source": [
        "# read data from this raw_table (last 20 min data)\n",
        "# read main_jobs_data table (last 20 min data)\n",
        "# compare both and remove and remove commen\n",
        "# for unique run data_manupulation worker\n",
        "# get city and (location details) , work_type,clean published (date) and check if date is behyod the current data, from json\n",
        "# description -->html to text , company details from json to compnay table mapping\n",
        "# send data to ai to tag a category,get skills,yeas_of_exp (min and max),musthave qulification,prefred qulifications,,\n",
        "\n",
        "#save this data in main jobs table and also inject data in main jobs dependcy tables like category and jobpost matching"
      ],
      "metadata": {
        "id": "GEeNydDCQNL6"
      },
      "execution_count": null,
      "outputs": []
    },
    {
      "cell_type": "code",
      "source": [
        "# when user request data\n",
        "# get all jobpost from main jobs table after filtering category (selected by user)\n",
        "# check if this jobposts already in user_score table if not run scoring worker and append data to table\n",
        "# send data to front end\n",
        "# delete expried jobpost fromt his table when delete_expried_worker run"
      ],
      "metadata": {
        "id": "JeTLR0oNYKsT"
      },
      "execution_count": null,
      "outputs": []
    },
    {
      "cell_type": "code",
      "source": [
        "import json\n",
        "import pandas as pd\n",
        "import sqlite3\n",
        "\n",
        "db = './jobs_data.db'\n",
        "conn = sqlite3.connect(db)\n",
        "cursor = conn.cursor()\n",
        "create_table_sql = \"\"\"\n",
        "CREATE TABLE IF NOT EXISTS job_posts (\n",
        "    id TEXT PRIMARY KEY,\n",
        "    jobtitle TEXT,\n",
        "    jobdataapi_id TEXT,\n",
        "    title TEXT,\n",
        "    location TEXT,\n",
        "    jobdescription TEXT,\n",
        "    company_id TEXT,\n",
        "    published_date TEXT, -- Storing ISO 8601 strings, e.g., 'YYYY-MM-DD HH:MM:SS'\n",
        "    published_time_ux INTEGER, -- Unix timestamp (seconds since epoch)\n",
        "    experience_level TEXT,\n",
        "    salary_min INTEGER,\n",
        "    salary_max INTEGER,\n",
        "    salary_currency TEXT,\n",
        "    job_language TEXT,\n",
        "    application_url TEXT,\n",
        "    -- Define Foreign Key constraint (optional if company_details table isn't created yet)\n",
        "    FOREIGN KEY (company_id) REFERENCES company_details(id)\n",
        "        ON DELETE NO ACTION ON UPDATE NO ACTION\n",
        ");\n",
        "\"\"\"\n",
        "# Execute the SQL command\n",
        "cursor.execute(create_table_sql)\n",
        "conn.commit()\n",
        "print(f\"Table 'job_posts' created successfully in {db}\")"
      ],
      "metadata": {
        "id": "mgG49rVeY2EZ"
      },
      "execution_count": null,
      "outputs": []
    },
    {
      "cell_type": "code",
      "source": [
        "main_table_ids = pd.read_sql(f\"SELECT jobdataapi_id FROM job_posts where published > {published_since}\", conn)['jobdataapi_id'].tolist()\n",
        "raw_table_ids = pd.read_sql(f\"SELECT id FROM raw_jobdataapi_data where published > {published_since}\", conn)['id'].tolist()\n",
        "# Filter out rows that already exist in the database\n",
        "df_to_insert = df[~df['id'].isin(existing_ids)].copy()"
      ],
      "metadata": {
        "id": "28elV8TLcZTu"
      },
      "execution_count": null,
      "outputs": []
    }
  ],
  "metadata": {
    "colab": {
      "name": "Welcome to Colab",
      "provenance": [],
      "include_colab_link": true
    },
    "kernelspec": {
      "display_name": "Python 3",
      "name": "python3"
    }
  },
  "nbformat": 4,
  "nbformat_minor": 0
}